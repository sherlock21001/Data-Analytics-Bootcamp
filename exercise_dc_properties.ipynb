{
 "cells": [
  {
   "cell_type": "markdown",
   "metadata": {},
   "source": [
    "\n",
    "Exercise: DC Housing Properties\n",
    "\n",
    "    Due No Due Date Points 10 Submitting a website url\n",
    "\n",
    "Use the D.C. Residential Properties dataset (Links to an external site.) from Kaggle to re-scale the \"price\" column using both z-score standardization and Min-max scaling.\n",
    "\n",
    "HINTS: Replace or remove the missing values in the data.\n",
    "\n",
    "Upload your notebook to your Github repository and submit the URL for this assignment."
   ]
  },
  {
   "cell_type": "code",
   "execution_count": null,
   "metadata": {},
   "outputs": [],
   "source": []
  },
  {
   "cell_type": "code",
   "execution_count": 1,
   "metadata": {},
   "outputs": [],
   "source": [
    "import pandas as pd\n",
    "\n",
    "#preprocessing functions will be used to standardize/normalize data\n",
    "from sklearn import preprocessing\n",
    "from sklearn.preprocessing import StandardScaler\n",
    "from sklearn.preprocessing import MinMaxScaler\n",
    "\n",
    "%matplotlib inline"
   ]
  },
  {
   "cell_type": "code",
   "execution_count": 2,
   "metadata": {},
   "outputs": [
    {
     "name": "stderr",
     "output_type": "stream",
     "text": [
      "C:\\Users\\Million\\Anaconda3\\lib\\site-packages\\IPython\\core\\interactiveshell.py:3058: DtypeWarning: Columns (18,19,20,21,22,23,24,33,34,35,37,43,45) have mixed types. Specify dtype option on import or set low_memory=False.\n",
      "  interactivity=interactivity, compiler=compiler, result=result)\n"
     ]
    },
    {
     "data": {
      "text/html": [
       "<div>\n",
       "<style scoped>\n",
       "    .dataframe tbody tr th:only-of-type {\n",
       "        vertical-align: middle;\n",
       "    }\n",
       "\n",
       "    .dataframe tbody tr th {\n",
       "        vertical-align: top;\n",
       "    }\n",
       "\n",
       "    .dataframe thead th {\n",
       "        text-align: right;\n",
       "    }\n",
       "</style>\n",
       "<table border=\"1\" class=\"dataframe\">\n",
       "  <thead>\n",
       "    <tr style=\"text-align: right;\">\n",
       "      <th></th>\n",
       "      <th>Unnamed: 0</th>\n",
       "      <th>BATHRM</th>\n",
       "      <th>HF_BATHRM</th>\n",
       "      <th>HEAT</th>\n",
       "      <th>AC</th>\n",
       "      <th>NUM_UNITS</th>\n",
       "      <th>ROOMS</th>\n",
       "      <th>BEDRM</th>\n",
       "      <th>AYB</th>\n",
       "      <th>YR_RMDL</th>\n",
       "      <th>...</th>\n",
       "      <th>LONGITUDE</th>\n",
       "      <th>ASSESSMENT_NBHD</th>\n",
       "      <th>ASSESSMENT_SUBNBHD</th>\n",
       "      <th>CENSUS_TRACT</th>\n",
       "      <th>CENSUS_BLOCK</th>\n",
       "      <th>WARD</th>\n",
       "      <th>SQUARE</th>\n",
       "      <th>X</th>\n",
       "      <th>Y</th>\n",
       "      <th>QUADRANT</th>\n",
       "    </tr>\n",
       "  </thead>\n",
       "  <tbody>\n",
       "    <tr>\n",
       "      <td>0</td>\n",
       "      <td>0</td>\n",
       "      <td>4</td>\n",
       "      <td>0</td>\n",
       "      <td>Warm Cool</td>\n",
       "      <td>Y</td>\n",
       "      <td>2.0</td>\n",
       "      <td>8</td>\n",
       "      <td>4</td>\n",
       "      <td>1910.0</td>\n",
       "      <td>1988.0</td>\n",
       "      <td>...</td>\n",
       "      <td>-77.040832</td>\n",
       "      <td>Old City 2</td>\n",
       "      <td>040 D Old City 2</td>\n",
       "      <td>4201.0</td>\n",
       "      <td>004201 2006</td>\n",
       "      <td>Ward 2</td>\n",
       "      <td>152</td>\n",
       "      <td>-77.040429</td>\n",
       "      <td>38.914881</td>\n",
       "      <td>NW</td>\n",
       "    </tr>\n",
       "    <tr>\n",
       "      <td>1</td>\n",
       "      <td>1</td>\n",
       "      <td>3</td>\n",
       "      <td>1</td>\n",
       "      <td>Warm Cool</td>\n",
       "      <td>Y</td>\n",
       "      <td>2.0</td>\n",
       "      <td>11</td>\n",
       "      <td>5</td>\n",
       "      <td>1898.0</td>\n",
       "      <td>2007.0</td>\n",
       "      <td>...</td>\n",
       "      <td>-77.040764</td>\n",
       "      <td>Old City 2</td>\n",
       "      <td>040 D Old City 2</td>\n",
       "      <td>4201.0</td>\n",
       "      <td>004201 2006</td>\n",
       "      <td>Ward 2</td>\n",
       "      <td>152</td>\n",
       "      <td>-77.040429</td>\n",
       "      <td>38.914881</td>\n",
       "      <td>NW</td>\n",
       "    </tr>\n",
       "    <tr>\n",
       "      <td>2</td>\n",
       "      <td>2</td>\n",
       "      <td>3</td>\n",
       "      <td>1</td>\n",
       "      <td>Hot Water Rad</td>\n",
       "      <td>Y</td>\n",
       "      <td>2.0</td>\n",
       "      <td>9</td>\n",
       "      <td>5</td>\n",
       "      <td>1910.0</td>\n",
       "      <td>2009.0</td>\n",
       "      <td>...</td>\n",
       "      <td>-77.040678</td>\n",
       "      <td>Old City 2</td>\n",
       "      <td>040 D Old City 2</td>\n",
       "      <td>4201.0</td>\n",
       "      <td>004201 2006</td>\n",
       "      <td>Ward 2</td>\n",
       "      <td>152</td>\n",
       "      <td>-77.040429</td>\n",
       "      <td>38.914881</td>\n",
       "      <td>NW</td>\n",
       "    </tr>\n",
       "    <tr>\n",
       "      <td>3</td>\n",
       "      <td>3</td>\n",
       "      <td>3</td>\n",
       "      <td>1</td>\n",
       "      <td>Hot Water Rad</td>\n",
       "      <td>Y</td>\n",
       "      <td>2.0</td>\n",
       "      <td>8</td>\n",
       "      <td>5</td>\n",
       "      <td>1900.0</td>\n",
       "      <td>2003.0</td>\n",
       "      <td>...</td>\n",
       "      <td>-77.040629</td>\n",
       "      <td>Old City 2</td>\n",
       "      <td>040 D Old City 2</td>\n",
       "      <td>4201.0</td>\n",
       "      <td>004201 2006</td>\n",
       "      <td>Ward 2</td>\n",
       "      <td>152</td>\n",
       "      <td>-77.040429</td>\n",
       "      <td>38.914881</td>\n",
       "      <td>NW</td>\n",
       "    </tr>\n",
       "    <tr>\n",
       "      <td>4</td>\n",
       "      <td>4</td>\n",
       "      <td>2</td>\n",
       "      <td>1</td>\n",
       "      <td>Warm Cool</td>\n",
       "      <td>Y</td>\n",
       "      <td>1.0</td>\n",
       "      <td>11</td>\n",
       "      <td>3</td>\n",
       "      <td>1913.0</td>\n",
       "      <td>2012.0</td>\n",
       "      <td>...</td>\n",
       "      <td>-77.039361</td>\n",
       "      <td>Old City 2</td>\n",
       "      <td>040 D Old City 2</td>\n",
       "      <td>4201.0</td>\n",
       "      <td>004201 2006</td>\n",
       "      <td>Ward 2</td>\n",
       "      <td>152</td>\n",
       "      <td>-77.040429</td>\n",
       "      <td>38.914881</td>\n",
       "      <td>NW</td>\n",
       "    </tr>\n",
       "  </tbody>\n",
       "</table>\n",
       "<p>5 rows × 49 columns</p>\n",
       "</div>"
      ],
      "text/plain": [
       "   Unnamed: 0  BATHRM  HF_BATHRM           HEAT AC  NUM_UNITS  ROOMS  BEDRM  \\\n",
       "0           0       4          0      Warm Cool  Y        2.0      8      4   \n",
       "1           1       3          1      Warm Cool  Y        2.0     11      5   \n",
       "2           2       3          1  Hot Water Rad  Y        2.0      9      5   \n",
       "3           3       3          1  Hot Water Rad  Y        2.0      8      5   \n",
       "4           4       2          1      Warm Cool  Y        1.0     11      3   \n",
       "\n",
       "      AYB  YR_RMDL  ...  LONGITUDE  ASSESSMENT_NBHD ASSESSMENT_SUBNBHD  \\\n",
       "0  1910.0   1988.0  ... -77.040832       Old City 2   040 D Old City 2   \n",
       "1  1898.0   2007.0  ... -77.040764       Old City 2   040 D Old City 2   \n",
       "2  1910.0   2009.0  ... -77.040678       Old City 2   040 D Old City 2   \n",
       "3  1900.0   2003.0  ... -77.040629       Old City 2   040 D Old City 2   \n",
       "4  1913.0   2012.0  ... -77.039361       Old City 2   040 D Old City 2   \n",
       "\n",
       "   CENSUS_TRACT CENSUS_BLOCK    WARD  SQUARE          X          Y QUADRANT  \n",
       "0        4201.0  004201 2006  Ward 2     152 -77.040429  38.914881       NW  \n",
       "1        4201.0  004201 2006  Ward 2     152 -77.040429  38.914881       NW  \n",
       "2        4201.0  004201 2006  Ward 2     152 -77.040429  38.914881       NW  \n",
       "3        4201.0  004201 2006  Ward 2     152 -77.040429  38.914881       NW  \n",
       "4        4201.0  004201 2006  Ward 2     152 -77.040429  38.914881       NW  \n",
       "\n",
       "[5 rows x 49 columns]"
      ]
     },
     "execution_count": 2,
     "metadata": {},
     "output_type": "execute_result"
    }
   ],
   "source": [
    "filepath = \"datasets/DC_Properties.csv\"\n",
    "\n",
    "df = pd.read_csv(filepath)\n",
    "df.head()"
   ]
  },
  {
   "cell_type": "code",
   "execution_count": null,
   "metadata": {},
   "outputs": [],
   "source": [
    "#check if any missing values in the data\n",
    "df.count()"
   ]
  },
  {
   "cell_type": "code",
   "execution_count": null,
   "metadata": {},
   "outputs": [],
   "source": [
    "#descriptive statistics\n",
    "df.describe()"
   ]
  },
  {
   "cell_type": "code",
   "execution_count": null,
   "metadata": {},
   "outputs": [],
   "source": [
    "#plot the frequency count for each column\n",
    "df.hist(figsize=(10,10))"
   ]
  },
  {
   "cell_type": "code",
   "execution_count": 3,
   "metadata": {},
   "outputs": [
    {
     "name": "stdout",
     "output_type": "stream",
     "text": [
      "        Unnamed: 0  BATHRM  HF_BATHRM           HEAT AC  NUM_UNITS  ROOMS  \\\n",
      "0                0       4          0      Warm Cool  Y        2.0      8   \n",
      "2                2       3          1  Hot Water Rad  Y        2.0      9   \n",
      "3                3       3          1  Hot Water Rad  Y        2.0      8   \n",
      "5                5       3          2  Hot Water Rad  Y        1.0     10   \n",
      "7                7       3          1  Hot Water Rad  Y        2.0      8   \n",
      "...            ...     ...        ...            ... ..        ...    ...   \n",
      "158951      158951       3          1     Forced Air  Y        NaN      5   \n",
      "158952      158952       1          0     Forced Air  Y        NaN      3   \n",
      "158953      158953       1          0     Forced Air  Y        NaN      4   \n",
      "158954      158954       2          0     Forced Air  Y        NaN      4   \n",
      "158955      158955       1          0      Warm Cool  Y        NaN      2   \n",
      "\n",
      "        BEDRM     AYB  YR_RMDL  ...  LONGITUDE       ASSESSMENT_NBHD  \\\n",
      "0           4  1910.0   1988.0  ... -77.040832            Old City 2   \n",
      "2           5  1910.0   2009.0  ... -77.040678            Old City 2   \n",
      "3           5  1900.0   2003.0  ... -77.040629            Old City 2   \n",
      "5           5  1913.0      NaN  ... -77.039715            Old City 2   \n",
      "7           4  1906.0   2011.0  ... -77.040129            Old City 2   \n",
      "...       ...     ...      ...  ...        ...                   ...   \n",
      "158951      3  1938.0   2006.0  ... -77.019420            Old City 2   \n",
      "158952      1  1938.0   2006.0  ... -77.019420            Old City 2   \n",
      "158953      2  1938.0   2006.0  ... -77.019420            Old City 2   \n",
      "158954      2  1920.0   2007.0  ... -77.019420            Old City 2   \n",
      "158955      0  1965.0      NaN  ... -77.018230  Southwest Waterfront   \n",
      "\n",
      "       ASSESSMENT_SUBNBHD  CENSUS_TRACT CENSUS_BLOCK    WARD  SQUARE  \\\n",
      "0        040 D Old City 2        4201.0  004201 2006  Ward 2     152   \n",
      "2        040 D Old City 2        4201.0  004201 2006  Ward 2     152   \n",
      "3        040 D Old City 2        4201.0  004201 2006  Ward 2     152   \n",
      "5        040 D Old City 2        4201.0  004201 2006  Ward 2     152   \n",
      "7        040 D Old City 2        4201.0  004201 2005  Ward 2     152   \n",
      "...                   ...           ...          ...     ...     ...   \n",
      "158951   040 B Old City 2        4801.0          NaN  Ward 6     477   \n",
      "158952   040 B Old City 2        4801.0          NaN  Ward 6     477   \n",
      "158953   040 B Old City 2        4801.0          NaN  Ward 6     477   \n",
      "158954   040 B Old City 2        4801.0          NaN  Ward 6     477   \n",
      "158955                NaN       11000.0          NaN  Ward 6     504   \n",
      "\n",
      "                X          Y QUADRANT  \n",
      "0      -77.040429  38.914881       NW  \n",
      "2      -77.040429  38.914881       NW  \n",
      "3      -77.040429  38.914881       NW  \n",
      "5      -77.040429  38.914881       NW  \n",
      "7      -77.040429  38.914881       NW  \n",
      "...           ...        ...      ...  \n",
      "158951 -77.019422  38.911848       NW  \n",
      "158952 -77.019422  38.911848       NW  \n",
      "158953 -77.019422  38.911848       NW  \n",
      "158954 -77.019422  38.911848       NW  \n",
      "158955 -77.018232  38.872961       SW  \n",
      "\n",
      "[98216 rows x 49 columns]\n"
     ]
    }
   ],
   "source": [
    "#df.dropna(axis='PRICE')\n",
    "df = df.dropna(how='all', subset = ['PRICE'])\n",
    "\n",
    "print(df)"
   ]
  },
  {
   "cell_type": "code",
   "execution_count": 4,
   "metadata": {},
   "outputs": [
    {
     "data": {
      "text/plain": [
       "(931351.5949336156, 7061324.955612032)"
      ]
     },
     "execution_count": 4,
     "metadata": {},
     "output_type": "execute_result"
    }
   ],
   "source": [
    "mean = df['PRICE'].mean()\n",
    "\n",
    "std = df['PRICE'].std()\n",
    "\n",
    "price_z_manual = (df['PRICE'] - mean)/std\n",
    "\n",
    "mean, std"
   ]
  },
  {
   "cell_type": "code",
   "execution_count": 5,
   "metadata": {},
   "outputs": [
    {
     "data": {
      "text/plain": [
       "0    0.023175\n",
       "2    0.165500\n",
       "3    0.094975\n",
       "5    0.144257\n",
       "7    0.016803\n",
       "Name: PRICE, dtype: float64"
      ]
     },
     "execution_count": 5,
     "metadata": {},
     "output_type": "execute_result"
    }
   ],
   "source": [
    "price_z_manual.head()"
   ]
  },
  {
   "cell_type": "code",
   "execution_count": 6,
   "metadata": {},
   "outputs": [],
   "source": [
    "scaler = StandardScaler()\n",
    "\n",
    "price_zscore = scaler.fit_transform(df[['PRICE']])"
   ]
  },
  {
   "cell_type": "code",
   "execution_count": 8,
   "metadata": {},
   "outputs": [
    {
     "data": {
      "text/plain": [
       "(-4.630074029551846e-18, 1.0)"
      ]
     },
     "execution_count": 8,
     "metadata": {},
     "output_type": "execute_result"
    }
   ],
   "source": [
    "price_zscore.mean(), price_zscore.std()"
   ]
  },
  {
   "cell_type": "code",
   "execution_count": 9,
   "metadata": {},
   "outputs": [],
   "source": [
    "minmax_sc = MinMaxScaler()"
   ]
  },
  {
   "cell_type": "code",
   "execution_count": 10,
   "metadata": {},
   "outputs": [
    {
     "data": {
      "text/plain": [
       "0    0.007968\n",
       "1    0.015281\n",
       "2    0.011657\n",
       "3    0.014189\n",
       "4    0.007640\n",
       "dtype: float64"
      ]
     },
     "execution_count": 10,
     "metadata": {},
     "output_type": "execute_result"
    }
   ],
   "source": [
    "price_minmax = minmax_sc.fit_transform(df[['PRICE']])\n",
    "price_mm_col = pd.Series(price_minmax.reshape(-1))\n",
    "price_mm_col.head()"
   ]
  },
  {
   "cell_type": "code",
   "execution_count": 13,
   "metadata": {},
   "outputs": [
    {
     "data": {
      "text/plain": [
       "<matplotlib.axes._subplots.AxesSubplot at 0x1d2554fe688>"
      ]
     },
     "execution_count": 13,
     "metadata": {},
     "output_type": "execute_result"
    },
    {
     "data": {
      "image/png": "[encoded data removed]",
      "text/plain": [
       "<Figure size 432x288 with 1 Axes>"
      ]
     },
     "metadata": {
      "needs_background": "light"
     },
     "output_type": "display_data"
    }
   ],
   "source": [
    "price_mm_col.hist()"
   ]
  },
  {
   "cell_type": "code",
   "execution_count": null,
   "metadata": {},
   "outputs": [],
   "source": []
  },
  {
   "cell_type": "code",
   "execution_count": null,
   "metadata": {},
   "outputs": [],
   "source": []
  },
  {
   "cell_type": "code",
   "execution_count": null,
   "metadata": {},
   "outputs": [],
   "source": []
  },
  {
   "cell_type": "code",
   "execution_count": null,
   "metadata": {},
   "outputs": [],
   "source": []
  },
  {
   "cell_type": "code",
   "execution_count": null,
   "metadata": {},
   "outputs": [],
   "source": []
  },
  {
   "cell_type": "code",
   "execution_count": null,
   "metadata": {},
   "outputs": [],
   "source": []
  },
  {
   "cell_type": "code",
   "execution_count": null,
   "metadata": {},
   "outputs": [],
   "source": []
  },
  {
   "cell_type": "code",
   "execution_count": null,
   "metadata": {},
   "outputs": [],
   "source": []
  },
  {
   "cell_type": "code",
   "execution_count": null,
   "metadata": {},
   "outputs": [],
   "source": []
  }
 ],
 "metadata": {
  "kernelspec": {
   "display_name": "Python 3",
   "language": "python",
   "name": "python3"
  },
  "language_info": {
   "codemirror_mode": {
    "name": "ipython",
    "version": 3
   },
   "file_extension": ".py",
   "mimetype": "text/x-python",
   "name": "python",
   "nbconvert_exporter": "python",
   "pygments_lexer": "ipython3",
   "version": "3.7.4"
  }
 },
 "nbformat": 4,
 "nbformat_minor": 2
}
